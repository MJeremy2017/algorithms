{
 "cells": [
  {
   "cell_type": "markdown",
   "metadata": {},
   "source": [
    "1. Integer Break\n",
    "---\n",
    "Given a positive integer n, break it into the sum of at least two positive integers and maximize the product of those integers. Return the maximum product you can get.\n",
    "\n",
    "```\n",
    "Input: 10\n",
    "Output: 36\n",
    "Explanation: 10 = 3 + 3 + 4, 3 × 3 × 4 = 36.\n",
    "```"
   ]
  },
  {
   "cell_type": "code",
   "execution_count": 4,
   "metadata": {
    "collapsed": true
   },
   "outputs": [],
   "source": [
    "# given a list, return the maximum of product\n",
    "def re_max(l):\n",
    "    if len(l) == 1:\n",
    "        return l[0]**2\n",
    "    if len(l) == 2:\n",
    "        return l[0]*l[1]\n",
    "    \n",
    "    head, tail = l[0], l[-1]\n",
    "    return max(head*tail, re_max(l[1:-1]))"
   ]
  },
  {
   "cell_type": "code",
   "execution_count": 13,
   "metadata": {
    "collapsed": true
   },
   "outputs": [],
   "source": [
    "def int_break(n):\n",
    "    if n <= 3:\n",
    "        return n - 2 + 1\n",
    "    \n",
    "    dp = [0] * (n + 1)\n",
    "    # store the best value the integer\n",
    "    dp[1] = 1\n",
    "    dp[2] = 2\n",
    "    dp[3] = 3\n",
    "    for i in range(4, n+1):\n",
    "        dp[i] = re_max(dp[1:i])\n",
    "    print(dp)\n",
    "    return dp[n]"
   ]
  },
  {
   "cell_type": "code",
   "execution_count": 15,
   "metadata": {},
   "outputs": [
    {
     "name": "stdout",
     "output_type": "stream",
     "text": [
      "[0, 1, 2, 3, 4, 6, 9, 12, 18, 27, 36, 54]\n"
     ]
    },
    {
     "data": {
      "text/plain": [
       "54"
      ]
     },
     "execution_count": 15,
     "metadata": {},
     "output_type": "execute_result"
    }
   ],
   "source": [
    "int_break(11)"
   ]
  },
  {
   "cell_type": "markdown",
   "metadata": {},
   "source": [
    "2. Implement Square Root\n",
    "---"
   ]
  },
  {
   "cell_type": "code",
   "execution_count": 22,
   "metadata": {
    "collapsed": true
   },
   "outputs": [],
   "source": [
    "def square_root(val, threshold=0.1):\n",
    "    if val >= 1:\n",
    "        low, high = 1, val\n",
    "        mid = (low + high)/2\n",
    "        \n",
    "        while abs(mid ** 2 - val) > threshold:\n",
    "            if mid**2 > val:\n",
    "                high = mid\n",
    "            else:\n",
    "                low = mid\n",
    "            mid = (low + high)/2\n",
    "        return mid\n",
    "    elif val >=0:\n",
    "        return 1/square_root(1/val)\n",
    "    else:\n",
    "        return -1"
   ]
  },
  {
   "cell_type": "code",
   "execution_count": 25,
   "metadata": {},
   "outputs": [
    {
     "name": "stdout",
     "output_type": "stream",
     "text": [
      "1.734375\n",
      "0.5669988925802879\n"
     ]
    }
   ],
   "source": [
    "print(square_root(3, threshold=0.01))\n",
    "print(square_root(0.32, threshold=0.01))"
   ]
  },
  {
   "cell_type": "code",
   "execution_count": null,
   "metadata": {
    "collapsed": true
   },
   "outputs": [],
   "source": []
  }
 ],
 "metadata": {
  "kernelspec": {
   "display_name": "Python-3.6",
   "language": "python",
   "name": "py36"
  },
  "language_info": {
   "codemirror_mode": {
    "name": "ipython",
    "version": 3
   },
   "file_extension": ".py",
   "mimetype": "text/x-python",
   "name": "python",
   "nbconvert_exporter": "python",
   "pygments_lexer": "ipython3",
   "version": "3.6.7"
  }
 },
 "nbformat": 4,
 "nbformat_minor": 2
}
