{
 "cells": [
  {
   "cell_type": "markdown",
   "metadata": {},
   "source": [
    "### 1. Integer Break\n",
    "---\n",
    "Given a positive integer n, break it into the sum of at least two positive integers and maximize the product of those integers. Return the maximum product you can get.\n",
    "\n",
    "```\n",
    "Input: 10\n",
    "Output: 36\n",
    "Explanation: 10 = 3 + 3 + 4, 3 × 3 × 4 = 36.\n",
    "```"
   ]
  },
  {
   "cell_type": "code",
   "execution_count": 4,
   "metadata": {
    "collapsed": true
   },
   "outputs": [],
   "source": [
    "# given a list, return the maximum of product\n",
    "def re_max(l):\n",
    "    if len(l) == 1:\n",
    "        return l[0]**2\n",
    "    if len(l) == 2:\n",
    "        return l[0]*l[1]\n",
    "    \n",
    "    head, tail = l[0], l[-1]\n",
    "    return max(head*tail, re_max(l[1:-1]))"
   ]
  },
  {
   "cell_type": "code",
   "execution_count": 13,
   "metadata": {
    "collapsed": true
   },
   "outputs": [],
   "source": [
    "def int_break(n):\n",
    "    if n <= 3:\n",
    "        return n - 2 + 1\n",
    "    \n",
    "    dp = [0] * (n + 1)\n",
    "    # store the best value the integer\n",
    "    dp[1] = 1\n",
    "    dp[2] = 2\n",
    "    dp[3] = 3\n",
    "    for i in range(4, n+1):\n",
    "        dp[i] = re_max(dp[1:i])\n",
    "    print(dp)\n",
    "    return dp[n]"
   ]
  },
  {
   "cell_type": "code",
   "execution_count": 15,
   "metadata": {},
   "outputs": [
    {
     "name": "stdout",
     "output_type": "stream",
     "text": [
      "[0, 1, 2, 3, 4, 6, 9, 12, 18, 27, 36, 54]\n"
     ]
    },
    {
     "data": {
      "text/plain": [
       "54"
      ]
     },
     "execution_count": 15,
     "metadata": {},
     "output_type": "execute_result"
    }
   ],
   "source": [
    "int_break(11)"
   ]
  },
  {
   "cell_type": "markdown",
   "metadata": {},
   "source": [
    "### 2. Implement Square Root\n",
    "---\n",
    "Implement square root, binary search"
   ]
  },
  {
   "cell_type": "code",
   "execution_count": 22,
   "metadata": {
    "collapsed": true
   },
   "outputs": [],
   "source": [
    "def square_root(val, threshold=0.1):\n",
    "    if val >= 1:\n",
    "        low, high = 1, val\n",
    "        mid = (low + high)/2\n",
    "        \n",
    "        while abs(mid ** 2 - val) > threshold:\n",
    "            if mid**2 > val:\n",
    "                high = mid\n",
    "            else:\n",
    "                low = mid\n",
    "            mid = (low + high)/2\n",
    "        return mid\n",
    "    elif val >=0:\n",
    "        return 1/square_root(1/val)\n",
    "    else:\n",
    "        return -1"
   ]
  },
  {
   "cell_type": "code",
   "execution_count": 25,
   "metadata": {},
   "outputs": [
    {
     "name": "stdout",
     "output_type": "stream",
     "text": [
      "1.734375\n",
      "0.5669988925802879\n"
     ]
    }
   ],
   "source": [
    "print(square_root(3, threshold=0.01))\n",
    "print(square_root(0.32, threshold=0.01))"
   ]
  },
  {
   "cell_type": "markdown",
   "metadata": {
    "collapsed": true
   },
   "source": [
    "### 3. Find First and Last Position of Element in Sorted Array\n",
    "---\n",
    "Given an array of integers nums sorted in ascending order, find the starting and ending position of a given target value.\n",
    "\n",
    "Your algorithm's runtime complexity must be in the order of O(log n).\n",
    "\n",
    "If the target is not found in the array, return [-1, -1].\n",
    "\n",
    "__Example:__\n",
    "\n",
    "```\n",
    "Input: nums = [5,7,7,8,8,10], target = 8\n",
    "Output: [3,4]\n",
    "```"
   ]
  },
  {
   "cell_type": "code",
   "execution_count": 37,
   "metadata": {},
   "outputs": [],
   "source": [
    "def search_range(nums, target):\n",
    "    res = []\n",
    "    # find first position of target\n",
    "    start = 0\n",
    "    end = len(nums) - 1\n",
    "\n",
    "    while start <= end:\n",
    "        mid = (start + end) // 2\n",
    "        if nums[mid] < target:\n",
    "            start = mid + 1\n",
    "        else:\n",
    "            end = mid - 1\n",
    "    left = start    \n",
    "\n",
    "    # find last position of target\n",
    "    start = 0\n",
    "    end = len(nums) - 1\n",
    "\n",
    "    while start <= end:\n",
    "        mid = (start + end) // 2\n",
    "        if nums[mid] <= target:\n",
    "            start = mid + 1\n",
    "        else:\n",
    "            end = mid - 1\n",
    "    right = end\n",
    "\n",
    "    return (left, right) if left <= right else [-1, -1]"
   ]
  },
  {
   "cell_type": "code",
   "execution_count": 38,
   "metadata": {},
   "outputs": [
    {
     "data": {
      "text/plain": [
       "(3, 4)"
      ]
     },
     "execution_count": 38,
     "metadata": {},
     "output_type": "execute_result"
    }
   ],
   "source": [
    "l = [5, 7, 7, 8, 8, 10]\n",
    "target = 8\n",
    "search_range(l, target)"
   ]
  },
  {
   "cell_type": "markdown",
   "metadata": {},
   "source": [
    "### 4. Print Binary Tree\n",
    "---\n",
    "__Example:__\n",
    "```\n",
    "Input:\n",
    "     1\n",
    "    / \\\n",
    "   2   3\n",
    "    \\\n",
    "     4\n",
    "Output:\n",
    "[[\"\", \"\", \"\", \"1\", \"\", \"\", \"\"],\n",
    " [\"\", \"2\", \"\", \"\", \"\", \"3\", \"\"],\n",
    " [\"\", \"\", \"4\", \"\", \"\", \"\", \"\"]]\n",
    "```"
   ]
  },
  {
   "cell_type": "code",
   "execution_count": 39,
   "metadata": {},
   "outputs": [],
   "source": [
    "class TreeNode:\n",
    "    def __init__(self, x):\n",
    "        self.val = x\n",
    "        self.left = None\n",
    "        self.right = None"
   ]
  },
  {
   "cell_type": "code",
   "execution_count": 52,
   "metadata": {},
   "outputs": [],
   "source": [
    "def get_height(tree):\n",
    "    if tree is None:\n",
    "        return 0\n",
    "    return max(1 + get_height(tree.left), 1 + get_height(tree.right))"
   ]
  },
  {
   "cell_type": "code",
   "execution_count": 58,
   "metadata": {},
   "outputs": [],
   "source": [
    "def assign(tree, start=0, end=-1, depth=0):\n",
    "    if tree == None: \n",
    "        return\n",
    "    mid_ind = (end + start) // 2\n",
    "    result[depth][mid_ind] = str(tree.val)\n",
    "    \n",
    "    if tree.left: \n",
    "        assign(tree.left, start=start, end=mid_ind-1, depth=depth+1)\n",
    "    if tree.right:\n",
    "        assign(tree.right, start=mid_ind+1, end=end, depth=depth+1)"
   ]
  },
  {
   "cell_type": "code",
   "execution_count": 59,
   "metadata": {},
   "outputs": [],
   "source": [
    "t = TreeNode(1)\n",
    "t.left = TreeNode(2)\n",
    "t.right = TreeNode(3)\n",
    "t.left.right = TreeNode(4)\n",
    "\n",
    "depth = get_height(t)\n",
    "result = [['']*(2**depth-1) for _ in range(depth)]\n",
    "\n",
    "assign(t, 0, 6)"
   ]
  },
  {
   "cell_type": "code",
   "execution_count": 60,
   "metadata": {},
   "outputs": [
    {
     "data": {
      "text/plain": [
       "[['', '', '', '1', '', '', ''],\n",
       " ['', '2', '', '', '', '3', ''],\n",
       " ['', '', '4', '', '', '', '']]"
      ]
     },
     "execution_count": 60,
     "metadata": {},
     "output_type": "execute_result"
    }
   ],
   "source": [
    "result"
   ]
  },
  {
   "cell_type": "markdown",
   "metadata": {},
   "source": [
    "### 5. Longest Substring Without Repeating Characters\n",
    "---\n",
    "Given a string, find the length of the longest substring without repeating characters.\n",
    "\n",
    "__Example 1:__\n",
    "```\n",
    "Input: \"abcabcbb\"\n",
    "Output: 3 \n",
    "Explanation: The answer is \"abc\", with the length of 3. \n",
    "```"
   ]
  },
  {
   "cell_type": "code",
   "execution_count": 10,
   "metadata": {},
   "outputs": [],
   "source": [
    "def longest_substring(s):\n",
    "    current_str = []\n",
    "    longest = 0\n",
    "    start = 0\n",
    "    for index, char in enumerate(s):\n",
    "        if char not in current_str:\n",
    "            longest = max(longest, index - start)\n",
    "        else:\n",
    "            start = index\n",
    "            current_str = []\n",
    "        current_str.append(char)\n",
    "    return longest + 1"
   ]
  },
  {
   "cell_type": "code",
   "execution_count": 11,
   "metadata": {},
   "outputs": [
    {
     "data": {
      "text/plain": [
       "4"
      ]
     },
     "execution_count": 11,
     "metadata": {},
     "output_type": "execute_result"
    }
   ],
   "source": [
    "s = \"ababcdbb\"\n",
    "longest_substring(s)"
   ]
  },
  {
   "cell_type": "markdown",
   "metadata": {},
   "source": [
    "### 6. Validate Binary Search Tree\n",
    "---\n",
    "Given a binary tree, determine if it is a valid binary search tree (BST).\n",
    "\n",
    "Assume a BST is defined as follows:\n",
    "\n",
    "The left subtree of a node contains only nodes with keys less than the node's key.\n",
    "The right subtree of a node contains only nodes with keys greater than the node's key.\n",
    "Both the left and right subtrees must also be binary search trees.\n",
    "\n",
    "__Example:__\n",
    "```\n",
    "    5\n",
    "   / \\\n",
    "  1   4\n",
    "     / \\\n",
    "    3   6\n",
    "\n",
    "Input: [5,1,4,null,null,3,6]\n",
    "Output: false\n",
    "```"
   ]
  },
  {
   "cell_type": "code",
   "execution_count": 46,
   "metadata": {},
   "outputs": [],
   "source": [
    "class TreeNode:\n",
    "    def __init__(self, val=0, left=None, right=None):\n",
    "        self.val = val\n",
    "        self.left = left\n",
    "        self.right = right\n",
    "\n",
    "\n",
    "class Solution:\n",
    "    def helper(self, root):\n",
    "        if root is None:\n",
    "            return True\n",
    "        \n",
    "        if not root.left and not root.right:\n",
    "            return\n",
    "        \n",
    "        value = root.val\n",
    "        if root.left:\n",
    "            if root.left.val < value:\n",
    "                self.isValidBST(root.left)\n",
    "            else:\n",
    "                return False\n",
    "        \n",
    "        if root.right: \n",
    "            if root.right.val > value:\n",
    "                self.isValidBST(root.right)\n",
    "            else:\n",
    "                return False\n",
    "            \n",
    "    def isValidBST(self, root: TreeNode):\n",
    "        res = self.helper(root)\n",
    "        if res:\n",
    "            return False\n",
    "        return True"
   ]
  },
  {
   "cell_type": "code",
   "execution_count": 47,
   "metadata": {},
   "outputs": [],
   "source": [
    "tree = TreeNode(5)\n",
    "tree.left = TreeNode(1)\n",
    "tree.right = TreeNode(6)\n",
    "tree.right.left = TreeNode(3)\n",
    "tree.right.right = TreeNode(7)"
   ]
  },
  {
   "cell_type": "code",
   "execution_count": 48,
   "metadata": {},
   "outputs": [
    {
     "data": {
      "text/plain": [
       "True"
      ]
     },
     "execution_count": 48,
     "metadata": {},
     "output_type": "execute_result"
    }
   ],
   "source": [
    "s = Solution()\n",
    "s.isValidBST(tree)"
   ]
  },
  {
   "cell_type": "markdown",
   "metadata": {},
   "source": [
    "### 7. Symmetric Tree\n",
    "---\n",
    "Given a binary tree, check whether it is a mirror of itself (ie, symmetric around its center).\n",
    "\n",
    "For example, this binary tree [1, 2, 2, 3, 4, 4, 3] is symmetric:\n",
    "\n",
    "```\n",
    "    1\n",
    "   / \\\n",
    "  2   2\n",
    " / \\ / \\\n",
    "3  4 4  3\n",
    "```"
   ]
  },
  {
   "cell_type": "code",
   "execution_count": 95,
   "metadata": {},
   "outputs": [],
   "source": [
    "class Solution:\n",
    "    def isSymmetric(self, root: TreeNode) -> bool:\n",
    "        queue = [[root, 0]]\n",
    "        level_values = []\n",
    "        last_depth = 0\n",
    "        while queue:\n",
    "            curr_node, curr_depth = queue.pop(0)\n",
    "            if curr_depth > last_depth:\n",
    "                last_depth = curr_depth\n",
    "                if level_values != level_values[::-1]:\n",
    "                    return False\n",
    "                level_values = []\n",
    "            \n",
    "            if curr_node:\n",
    "                queue.append([curr_node.left, curr_depth + 1])\n",
    "                queue.append([curr_node.right, curr_depth + 1])\n",
    "                level_values.append(curr_node.val)\n",
    "            else:\n",
    "                level_values.append(None)\n",
    "        return True"
   ]
  },
  {
   "cell_type": "code",
   "execution_count": 96,
   "metadata": {},
   "outputs": [],
   "source": [
    "tree = TreeNode(1)\n",
    "tree.left = TreeNode(2)\n",
    "tree.right = TreeNode(2)\n",
    "# tree.right.left = TreeNode(3)\n",
    "# tree.right.right = TreeNode(7)"
   ]
  },
  {
   "cell_type": "code",
   "execution_count": 97,
   "metadata": {},
   "outputs": [
    {
     "data": {
      "text/plain": [
       "True"
      ]
     },
     "execution_count": 97,
     "metadata": {},
     "output_type": "execute_result"
    }
   ],
   "source": [
    "s = Solution()\n",
    "s.isSymmetric(tree)"
   ]
  },
  {
   "cell_type": "markdown",
   "metadata": {},
   "source": [
    "### 8. Path Sum\n",
    "---\n",
    "Given a binary tree and a sum, find all root-to-leaf paths where each path's sum equals the given sum.\n",
    "\n",
    "Note: A leaf is a node with no children.\n",
    "\n",
    "__Example:__\n",
    "\n",
    "```\n",
    "Given the below binary tree and sum = 22,\n",
    "\n",
    "      5\n",
    "     / \\\n",
    "    4   8\n",
    "   /   / \\\n",
    "  11  13  4\n",
    " /  \\    / \\\n",
    "7    2  5   1\n",
    "```"
   ]
  },
  {
   "cell_type": "code",
   "execution_count": 114,
   "metadata": {},
   "outputs": [],
   "source": [
    "class TreeNode:\n",
    "    def __init__(self, val=0, left=None, right=None):\n",
    "        self.val = val\n",
    "        self.left = left\n",
    "        self.right = right\n",
    "\n",
    "\n",
    "class Solution:\n",
    "    def __init__(self):\n",
    "        self.res_path = []\n",
    "    \n",
    "    def trace(self, root, target_sum, path=[]):\n",
    "        path.append(root.val)\n",
    "        \n",
    "        if root.left is None and root.right is None:\n",
    "            curr_sum = sum(path)\n",
    "            if curr_sum == target_sum:\n",
    "                self.res_path.append(path)\n",
    "            return\n",
    "        \n",
    "        if root.left:\n",
    "            self.trace(root.left, target_sum, path.copy())\n",
    "        if root.right:\n",
    "            self.trace(root.right, target_sum, path.copy())\n",
    "    \n",
    "    \n",
    "    def pathSum(self, root: TreeNode, sum: int):\n",
    "        self.trace(root, sum)\n",
    "        return self.res_path"
   ]
  },
  {
   "cell_type": "code",
   "execution_count": 115,
   "metadata": {},
   "outputs": [],
   "source": [
    "tree = TreeNode(5)\n",
    "tree.left = TreeNode(4)\n",
    "tree.right = TreeNode(8)\n",
    "tree.left.left = TreeNode(11)\n",
    "tree.left.left.left = TreeNode(7)\n",
    "tree.left.left.right = TreeNode(2)\n",
    "\n",
    "tree.right.left = TreeNode(13)\n",
    "tree.right.right = TreeNode(4)\n",
    "tree.right.right.left = TreeNode(5)\n",
    "tree.right.right.right = TreeNode(1)"
   ]
  },
  {
   "cell_type": "code",
   "execution_count": 116,
   "metadata": {},
   "outputs": [
    {
     "data": {
      "text/plain": [
       "[[5, 4, 11, 2], [5, 8, 4, 5]]"
      ]
     },
     "execution_count": 116,
     "metadata": {},
     "output_type": "execute_result"
    }
   ],
   "source": [
    "s = Solution()\n",
    "s.pathSum(tree, 22)"
   ]
  },
  {
   "cell_type": "markdown",
   "metadata": {},
   "source": [
    "### 9. Flatten Binary Tree to Linked List\n",
    "---\n",
    "Given a binary tree, flatten it to a linked list in-place.\n",
    "\n",
    "For example, given the following tree:\n",
    "```\n",
    "    1\n",
    "   / \\\n",
    "  2   5\n",
    " / \\   \\\n",
    "3   4   6\n",
    "```\n",
    "The flattened tree should look like:\n",
    "```\n",
    "1\n",
    " \\\n",
    "  2\n",
    "   \\\n",
    "    3\n",
    "     \\\n",
    "      4\n",
    "       \\\n",
    "        5\n",
    "         \\\n",
    "          6\n",
    "```"
   ]
  },
  {
   "cell_type": "code",
   "execution_count": 123,
   "metadata": {},
   "outputs": [],
   "source": [
    "class TreeNode:\n",
    "    def __init__(self, val=0, left=None, right=None):\n",
    "        self.val = val\n",
    "        self.left = left\n",
    "        self.right = right\n",
    "\n",
    "class Node:\n",
    "    def __init__(self, val):\n",
    "        self.val = val\n",
    "        self.next = None\n",
    "        \n",
    "class ListNode:\n",
    "    def __init__(self):\n",
    "        self.head = None\n",
    "    \n",
    "    def add(self, value):\n",
    "        node = Node(value)\n",
    "        if self.head is None:\n",
    "            self.head = node\n",
    "            return\n",
    "        \n",
    "        last = self.head\n",
    "        while last.next:\n",
    "            last = last.next\n",
    "        last.next = node\n",
    "    \n",
    "    def print_list(self):\n",
    "        res_list = []\n",
    "        if self.head is None:\n",
    "            return res_list\n",
    "        \n",
    "        curr_node = self.head\n",
    "        while curr_node:\n",
    "            res_list.append(curr_node.val)\n",
    "            curr_node = curr_node.next\n",
    "        return res_list\n",
    "        \n",
    "class Solution:\n",
    "    def __init__(self):\n",
    "        self.linked_list = ListNode()\n",
    "        \n",
    "    def flatten(self, root: TreeNode):\n",
    "        self.linked_list.add(root.val)\n",
    "        if root.left is None and root.right is None:\n",
    "            return\n",
    "        \n",
    "        if root.left:\n",
    "            self.flatten(root.left)\n",
    "        if root.right:\n",
    "            self.flatten(root.right)"
   ]
  },
  {
   "cell_type": "code",
   "execution_count": 130,
   "metadata": {},
   "outputs": [],
   "source": [
    "tree = TreeNode(1)\n",
    "tree.left = TreeNode(2)\n",
    "tree.right = TreeNode(5)\n",
    "tree.left.left = TreeNode(3)\n",
    "tree.left.right = TreeNode(4)\n",
    "tree.right.right = TreeNode(6)"
   ]
  },
  {
   "cell_type": "code",
   "execution_count": 131,
   "metadata": {},
   "outputs": [],
   "source": [
    "s = Solution()\n",
    "s.flatten(tree)"
   ]
  },
  {
   "cell_type": "code",
   "execution_count": 132,
   "metadata": {},
   "outputs": [
    {
     "data": {
      "text/plain": [
       "[1, 2, 3, 4, 5, 6]"
      ]
     },
     "execution_count": 132,
     "metadata": {},
     "output_type": "execute_result"
    }
   ],
   "source": [
    "s.linked_list.print_list()"
   ]
  },
  {
   "cell_type": "markdown",
   "metadata": {},
   "source": [
    "### 10. Populating Next Right Pointers in Each Node\n",
    "---\n",
    "You are given a perfect binary tree where all leaves are on the same level, and every parent has two children. Populate each next pointer to point to its next right node. If there is no next right node, the next pointer should be set to NULL."
   ]
  },
  {
   "cell_type": "code",
   "execution_count": 133,
   "metadata": {},
   "outputs": [],
   "source": [
    "class Node(object):\n",
    "    def __init__(self, val=0, left=None, right=None, next=None):\n",
    "        self.val = val\n",
    "        self.left = left\n",
    "        self.right = right\n",
    "        self.next = next\n",
    "\n",
    "        \n",
    "class Solution(object):\n",
    "    def connect(self, root):\n",
    "        \"\"\"\n",
    "        :type root: Node\n",
    "        :rtype: Node\n",
    "        \"\"\"\n",
    "        if root is None:\n",
    "            return root\n",
    "        \n",
    "        queue = [[root]]\n",
    "        while queue:\n",
    "            level_len = len(queue)\n",
    "            for i in range(level_len):\n",
    "                node = queue.pop(0)\n",
    "                if i + 1 > level_len - 1:\n",
    "                    node.next = None\n",
    "                else:\n",
    "                    node.next = queue[0]\n",
    "                if node.left and node.right:\n",
    "                    queue.append(node.left)\n",
    "                    queue.append(node.right)           "
   ]
  },
  {
   "cell_type": "markdown",
   "metadata": {},
   "source": [
    "### 11.  Design a Stack With Increment Operation\n",
    "---\n",
    "Design a stack which supports the following operations.\n",
    "\n",
    "Implement the CustomStack class:\n",
    "\n",
    "- CustomStack(int maxSize) Initializes the object with maxSize which is the maximum number of elements in the stack or do nothing if the stack reached the maxSize.\n",
    "- void push(int x) Adds x to the top of the stack if the stack hasn't reached the maxSize.\n",
    "- int pop() Pops and returns the top of stack or -1 if the stack is empty.\n",
    "- void inc(int k, int val) Increments the bottom k elements of the stack by val. If there are less than k elements in the stack, just increment all the elements in the stack."
   ]
  },
  {
   "cell_type": "code",
   "execution_count": 134,
   "metadata": {},
   "outputs": [],
   "source": [
    "class CustomStack(object):\n",
    "\n",
    "    def __init__(self, maxSize):\n",
    "        self.stack = []\n",
    "        self.max_size = maxSize\n",
    "\n",
    "    def push(self, x):\n",
    "        if len(self.stack) < self.max_size:\n",
    "            self.stack.append(x)\n",
    "\n",
    "    def pop(self):\n",
    "        return self.stack.pop() if self.stack else -1\n",
    "\n",
    "    def increment(self, k, val):\n",
    "        for i in range(min(k, len(self.stack))):\n",
    "            self.stack[i] += val"
   ]
  },
  {
   "cell_type": "code",
   "execution_count": 137,
   "metadata": {},
   "outputs": [
    {
     "name": "stdout",
     "output_type": "stream",
     "text": [
      "[1, 2]\n",
      "[1, 2, 3]\n",
      "[101, 102, 103]\n"
     ]
    }
   ],
   "source": [
    "customStack = CustomStack(3)\n",
    "customStack.push(1)                       \n",
    "customStack.push(2)\n",
    "print(customStack.stack)\n",
    "\n",
    "customStack.pop()                        \n",
    "customStack.push(2)\n",
    "customStack.push(3)                        \n",
    "customStack.push(4)\n",
    "print(customStack.stack)\n",
    "\n",
    "customStack.increment(5, 100)\n",
    "print(customStack.stack)"
   ]
  },
  {
   "cell_type": "code",
   "execution_count": null,
   "metadata": {},
   "outputs": [],
   "source": []
  }
 ],
 "metadata": {
  "kernelspec": {
   "display_name": "Python 3",
   "language": "python",
   "name": "python3"
  },
  "language_info": {
   "codemirror_mode": {
    "name": "ipython",
    "version": 3
   },
   "file_extension": ".py",
   "mimetype": "text/x-python",
   "name": "python",
   "nbconvert_exporter": "python",
   "pygments_lexer": "ipython3",
   "version": "3.6.5"
  }
 },
 "nbformat": 4,
 "nbformat_minor": 2
}
