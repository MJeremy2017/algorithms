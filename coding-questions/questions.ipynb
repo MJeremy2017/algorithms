{
 "cells": [
  {
   "cell_type": "markdown",
   "metadata": {},
   "source": [
    "### 1. Integer Break\n",
    "---\n",
    "Given a positive integer n, break it into the sum of at least two positive integers and maximize the product of those integers. Return the maximum product you can get.\n",
    "\n",
    "```\n",
    "Input: 10\n",
    "Output: 36\n",
    "Explanation: 10 = 3 + 3 + 4, 3 × 3 × 4 = 36.\n",
    "```"
   ]
  },
  {
   "cell_type": "code",
   "execution_count": 4,
   "metadata": {
    "collapsed": true
   },
   "outputs": [],
   "source": [
    "# given a list, return the maximum of product\n",
    "def re_max(l):\n",
    "    if len(l) == 1:\n",
    "        return l[0]**2\n",
    "    if len(l) == 2:\n",
    "        return l[0]*l[1]\n",
    "    \n",
    "    head, tail = l[0], l[-1]\n",
    "    return max(head*tail, re_max(l[1:-1]))"
   ]
  },
  {
   "cell_type": "code",
   "execution_count": 13,
   "metadata": {
    "collapsed": true
   },
   "outputs": [],
   "source": [
    "def int_break(n):\n",
    "    if n <= 3:\n",
    "        return n - 2 + 1\n",
    "    \n",
    "    dp = [0] * (n + 1)\n",
    "    # store the best value the integer\n",
    "    dp[1] = 1\n",
    "    dp[2] = 2\n",
    "    dp[3] = 3\n",
    "    for i in range(4, n+1):\n",
    "        dp[i] = re_max(dp[1:i])\n",
    "    print(dp)\n",
    "    return dp[n]"
   ]
  },
  {
   "cell_type": "code",
   "execution_count": 15,
   "metadata": {},
   "outputs": [
    {
     "name": "stdout",
     "output_type": "stream",
     "text": [
      "[0, 1, 2, 3, 4, 6, 9, 12, 18, 27, 36, 54]\n"
     ]
    },
    {
     "data": {
      "text/plain": [
       "54"
      ]
     },
     "execution_count": 15,
     "metadata": {},
     "output_type": "execute_result"
    }
   ],
   "source": [
    "int_break(11)"
   ]
  },
  {
   "cell_type": "markdown",
   "metadata": {},
   "source": [
    "### 2. Implement Square Root\n",
    "---\n",
    "Implement square root, binary search"
   ]
  },
  {
   "cell_type": "code",
   "execution_count": 22,
   "metadata": {
    "collapsed": true
   },
   "outputs": [],
   "source": [
    "def square_root(val, threshold=0.1):\n",
    "    if val >= 1:\n",
    "        low, high = 1, val\n",
    "        mid = (low + high)/2\n",
    "        \n",
    "        while abs(mid ** 2 - val) > threshold:\n",
    "            if mid**2 > val:\n",
    "                high = mid\n",
    "            else:\n",
    "                low = mid\n",
    "            mid = (low + high)/2\n",
    "        return mid\n",
    "    elif val >=0:\n",
    "        return 1/square_root(1/val)\n",
    "    else:\n",
    "        return -1"
   ]
  },
  {
   "cell_type": "code",
   "execution_count": 25,
   "metadata": {},
   "outputs": [
    {
     "name": "stdout",
     "output_type": "stream",
     "text": [
      "1.734375\n",
      "0.5669988925802879\n"
     ]
    }
   ],
   "source": [
    "print(square_root(3, threshold=0.01))\n",
    "print(square_root(0.32, threshold=0.01))"
   ]
  },
  {
   "cell_type": "markdown",
   "metadata": {
    "collapsed": true
   },
   "source": [
    "### 3. Find First and Last Position of Element in Sorted Array\n",
    "---\n",
    "Given an array of integers nums sorted in ascending order, find the starting and ending position of a given target value.\n",
    "\n",
    "Your algorithm's runtime complexity must be in the order of O(log n).\n",
    "\n",
    "If the target is not found in the array, return [-1, -1].\n",
    "\n",
    "__Example__:\n",
    "\n",
    "```\n",
    "Input: nums = [5,7,7,8,8,10], target = 8\n",
    "Output: [3,4]\n",
    "```"
   ]
  },
  {
   "cell_type": "code",
   "execution_count": 34,
   "metadata": {},
   "outputs": [],
   "source": [
    "def search_range(nums, target):\n",
    "    res = []\n",
    "    # find first position of target\n",
    "    start = 0\n",
    "    end = len(nums) - 1\n",
    "\n",
    "    while start <= end:\n",
    "        mid = (start + end) // 2\n",
    "        print(start, end, mid)\n",
    "        if nums[mid] < target:\n",
    "            start = mid + 1\n",
    "        else:\n",
    "            end = mid - 1\n",
    "    left = start    \n",
    "\n",
    "    # find last position of target\n",
    "    start = 0\n",
    "    end = len(nums) - 1\n",
    "\n",
    "    while start <= end:\n",
    "        mid = (start + end) // 2\n",
    "        print(start, end, mid)\n",
    "        if nums[mid] <= target:\n",
    "            start = mid + 1\n",
    "        else:\n",
    "            end = mid - 1\n",
    "    right = end\n",
    "\n",
    "    return (left, right) if left <= right else [-1, -1]"
   ]
  },
  {
   "cell_type": "code",
   "execution_count": 35,
   "metadata": {},
   "outputs": [
    {
     "name": "stdout",
     "output_type": "stream",
     "text": [
      "0 5 2\n",
      "3 5 4\n",
      "3 3 3\n",
      "0 5 2\n",
      "3 5 4\n",
      "3 3 3\n",
      "4 3\n"
     ]
    },
    {
     "data": {
      "text/plain": [
       "[-1, -1]"
      ]
     },
     "execution_count": 35,
     "metadata": {},
     "output_type": "execute_result"
    }
   ],
   "source": [
    "l = [5, 7, 7, 7, 9, 10]\n",
    "target = 8\n",
    "search_range(l, target)"
   ]
  },
  {
   "cell_type": "code",
   "execution_count": null,
   "metadata": {},
   "outputs": [],
   "source": []
  }
 ],
 "metadata": {
  "kernelspec": {
   "display_name": "Python 3",
   "language": "python",
   "name": "python3"
  },
  "language_info": {
   "codemirror_mode": {
    "name": "ipython",
    "version": 3
   },
   "file_extension": ".py",
   "mimetype": "text/x-python",
   "name": "python",
   "nbconvert_exporter": "python",
   "pygments_lexer": "ipython3",
   "version": "3.6.5"
  }
 },
 "nbformat": 4,
 "nbformat_minor": 2
}
