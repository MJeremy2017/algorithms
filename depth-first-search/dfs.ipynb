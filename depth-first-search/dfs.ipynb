{
 "cells": [
  {
   "cell_type": "markdown",
   "metadata": {},
   "source": [
    "## Algo"
   ]
  },
  {
   "cell_type": "code",
   "execution_count": 1,
   "metadata": {
    "collapsed": true
   },
   "outputs": [],
   "source": [
    "class Graph:\n",
    "    def __init__(self):\n",
    "        self.graph = dict()\n",
    "        self.path_all = []\n",
    "        self.n = 0\n",
    "        \n",
    "    def add_edge(self, u, v):\n",
    "        if u not in self.graph.keys():\n",
    "            self.graph[u] = [v]\n",
    "        else:\n",
    "            self.graph[u].append(v)\n",
    "            \n",
    "    def dfs(self, start, end, path=[]):\n",
    "        path.append(start)\n",
    "\n",
    "        if start == end:\n",
    "            print(\"find solution path\", path)\n",
    "            self.path_all.append(path)\n",
    "            self.n += 1\n",
    "            return \n",
    "        \n",
    "        if start not in self.graph.keys():\n",
    "            return\n",
    "        \n",
    "        neighbors = self.graph[start]\n",
    "        for node in neighbors:\n",
    "            self.dfs(node, end, path.copy())  # need copy the list otherwise list would persist\n",
    "    \n",
    "    def dfs2(self, start, end, path=[]):\n",
    "        path.append(start)\n",
    "\n",
    "        if start == end:\n",
    "            print(\"find solution path\", path)\n",
    "            self.path_all.append(path)\n",
    "            self.n += 1\n",
    "            return \n",
    "        \n",
    "        if start not in self.graph.keys():\n",
    "            return\n",
    "        \n",
    "        neighbors = self.graph[start]\n",
    "        for node in neighbors:\n",
    "            if node not in path:\n",
    "                self.dfs2(node, end, path.copy())  # need copy the list otherwise list would persist"
   ]
  },
  {
   "cell_type": "code",
   "execution_count": 2,
   "metadata": {
    "collapsed": true
   },
   "outputs": [],
   "source": [
    "g = Graph()\n",
    "g.add_edge(0, 1) \n",
    "g.add_edge(0, 2) \n",
    "g.add_edge(1, 3) \n",
    "g.add_edge(1, 4) \n",
    "# g.add_edge(4, 1) \n",
    "g.add_edge(2, 5)\n",
    "g.add_edge(5, 6)\n",
    "g.add_edge(5, 4)\n",
    "g.add_edge(4, 6) "
   ]
  },
  {
   "cell_type": "code",
   "execution_count": 3,
   "metadata": {},
   "outputs": [
    {
     "name": "stdout",
     "output_type": "stream",
     "text": [
      "find solution path [0, 1, 4, 6]\n",
      "find solution path [0, 2, 5, 6]\n",
      "find solution path [0, 2, 5, 4, 6]\n"
     ]
    }
   ],
   "source": [
    "g.dfs(0, 6, path=[])"
   ]
  },
  {
   "cell_type": "code",
   "execution_count": 4,
   "metadata": {
    "collapsed": true
   },
   "outputs": [],
   "source": [
    "# add cycle\n",
    "g = Graph()\n",
    "g.add_edge(0, 1) \n",
    "g.add_edge(0, 2) \n",
    "g.add_edge(1, 3) \n",
    "g.add_edge(1, 4) \n",
    "# cycle\n",
    "g.add_edge(4, 1) \n",
    "g.add_edge(2, 5)\n",
    "g.add_edge(5, 6)\n",
    "g.add_edge(5, 4)\n",
    "g.add_edge(4, 6) "
   ]
  },
  {
   "cell_type": "code",
   "execution_count": 5,
   "metadata": {},
   "outputs": [
    {
     "name": "stdout",
     "output_type": "stream",
     "text": [
      "find solution path [0, 1, 4, 6]\n",
      "find solution path [0, 2, 5, 6]\n",
      "find solution path [0, 2, 5, 4, 6]\n"
     ]
    }
   ],
   "source": [
    "g.dfs2(0, 6, path=[])"
   ]
  },
  {
   "cell_type": "markdown",
   "metadata": {},
   "source": [
    "## Example"
   ]
  },
  {
   "cell_type": "markdown",
   "metadata": {},
   "source": [
    "Given a binary tree, find its minimum depth.\n",
    "\n",
    "The minimum depth is the number of nodes along the shortest path from the root node down to the nearest leaf node.\n",
    "\n",
    "__Note:__ A leaf is a node with no children.\n",
    "```\n",
    "    3\n",
    "   / \\\n",
    "  9  20\n",
    "    /  \\\n",
    "   15   7\n",
    "```\n",
    "return its minimum depth = 2."
   ]
  },
  {
   "cell_type": "code",
   "execution_count": 6,
   "metadata": {
    "collapsed": true
   },
   "outputs": [],
   "source": [
    "class TreeNode(object):\n",
    "    def __init__(self, x):\n",
    "        self.val = x\n",
    "        self.left = None\n",
    "        self.right = None\n",
    "\n",
    "class Solution(object):\n",
    "    def __init__(self):\n",
    "        self.paths_len = []\n",
    "        \n",
    "    def isLeaf(self, node):\n",
    "        if not node.left and not node.right:\n",
    "            return True\n",
    "        return False\n",
    "        \n",
    "    def minDepth(self, root, depth=1):\n",
    "        \"\"\"\n",
    "        :type root: TreeNode\n",
    "        :rtype: int\n",
    "        \"\"\"\n",
    "        if self.isLeaf(root):\n",
    "            self.paths_len.append(depth)\n",
    "        \n",
    "        left = root.left\n",
    "        right = root.right\n",
    "        if left:\n",
    "            self.minDepth(left, 1 + depth)\n",
    "        if right:\n",
    "            self.minDepth(right, 1 + depth)"
   ]
  },
  {
   "cell_type": "code",
   "execution_count": 7,
   "metadata": {
    "collapsed": true
   },
   "outputs": [],
   "source": [
    "tree = TreeNode(3)\n",
    "tree.left = TreeNode(9)\n",
    "tree.right = TreeNode(20)\n",
    "\n",
    "tree.right.left = TreeNode(15)\n",
    "tree.right.right = TreeNode(7)"
   ]
  },
  {
   "cell_type": "code",
   "execution_count": 8,
   "metadata": {},
   "outputs": [
    {
     "data": {
      "text/plain": [
       "[2, 3, 3]"
      ]
     },
     "execution_count": 8,
     "metadata": {},
     "output_type": "execute_result"
    }
   ],
   "source": [
    "s = Solution()\n",
    "s.minDepth(tree)\n",
    "\n",
    "s.paths_len"
   ]
  },
  {
   "cell_type": "markdown",
   "metadata": {
    "collapsed": true
   },
   "source": [
    "Given a n-ary tree, find its maximum depth.\n",
    "\n",
    "The maximum depth is the number of nodes along the longest path from the root node down to the farthest leaf node.\n",
    "\n",
    "```\n",
    "Input: root = [1,null,3,2,4,null,5,6]\n",
    "Output: 3\n",
    "```"
   ]
  },
  {
   "cell_type": "code",
   "execution_count": 1,
   "metadata": {},
   "outputs": [],
   "source": [
    "class Node(object):\n",
    "    def __init__(self, val=None, children=None):\n",
    "        self.val = val\n",
    "        self.children = children\n",
    "        \n",
    "\n",
    "class Solution(object):\n",
    "    def __init__(self):\n",
    "        self.depth = []\n",
    "        \n",
    "    def maxDepth(self, root):\n",
    "        \"\"\"\n",
    "        :type root: Node\n",
    "        :rtype: int\n",
    "        \"\"\"\n",
    "        if root is None:\n",
    "            return 0\n",
    "        \n",
    "        if root.children is None:\n",
    "            return 1\n",
    "        \n",
    "        depth = 0\n",
    "        # get maximum depth of subtrees\n",
    "        for c in root.children:\n",
    "            if self.maxDepth(c) > depth:\n",
    "                depth = self.maxDepth(c)\n",
    "        return depth + 1"
   ]
  },
  {
   "cell_type": "code",
   "execution_count": 2,
   "metadata": {},
   "outputs": [
    {
     "data": {
      "text/plain": [
       "3"
      ]
     },
     "execution_count": 2,
     "metadata": {},
     "output_type": "execute_result"
    }
   ],
   "source": [
    "tree = Node(1, [Node(3), Node(2, [Node(5), Node(6)]), Node(4)])\n",
    "\n",
    "s = Solution()\n",
    "s.maxDepth(tree)"
   ]
  },
  {
   "cell_type": "code",
   "execution_count": null,
   "metadata": {},
   "outputs": [],
   "source": []
  }
 ],
 "metadata": {
  "kernelspec": {
   "display_name": "Python 3",
   "language": "python",
   "name": "python3"
  },
  "language_info": {
   "codemirror_mode": {
    "name": "ipython",
    "version": 3
   },
   "file_extension": ".py",
   "mimetype": "text/x-python",
   "name": "python",
   "nbconvert_exporter": "python",
   "pygments_lexer": "ipython3",
   "version": "3.6.5"
  }
 },
 "nbformat": 4,
 "nbformat_minor": 2
}
