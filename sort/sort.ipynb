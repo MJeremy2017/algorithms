{
 "cells": [
  {
   "cell_type": "markdown",
   "metadata": {},
   "source": [
    "## Merge Sort\n",
    "---\n",
    "\n",
    "```\n",
    "MergeSort(arr[], l,  r)\n",
    "If r > l\n",
    "     1. Find the middle point to divide the array into two halves:  \n",
    "             middle m = (l+r)/2\n",
    "     2. Call mergeSort for first half:   \n",
    "             Call mergeSort(arr, l, m)\n",
    "     3. Call mergeSort for second half:\n",
    "             Call mergeSort(arr, m+1, r)\n",
    "     4. Merge the two halves sorted in step 2 and 3:\n",
    "             Call merge(arr, l, m, r)\n",
    "```"
   ]
  },
  {
   "cell_type": "code",
   "execution_count": 1,
   "metadata": {
    "collapsed": true
   },
   "outputs": [],
   "source": [
    "# sort two ordered list\n",
    "def sort_ordered_list(l, r):\n",
    "    l_len, r_len = len(l), len(r)\n",
    "    result = [0 for _ in range(l_len + r_len)]\n",
    "    \n",
    "    i = j = k = 0  # k is the pointer for result list\n",
    "    while i < l_len and j < r_len:\n",
    "        if l[i] < r[j]:\n",
    "            result[k] = l[i]\n",
    "            i += 1\n",
    "        else:\n",
    "            result[k] = r[j]\n",
    "            j += 1\n",
    "        k += 1\n",
    "    \n",
    "    if i == l_len:\n",
    "        result[k:] = r[j:]\n",
    "    else:\n",
    "        result[k:] = l[i:]\n",
    "    return result"
   ]
  },
  {
   "cell_type": "code",
   "execution_count": 2,
   "metadata": {
    "collapsed": true
   },
   "outputs": [],
   "source": [
    "# sort two ordered list\n",
    "def sort_ordered_list2(l, r):\n",
    "    l_len, r_len = len(l), len(r)\n",
    "    result = []\n",
    "    \n",
    "    i = j = 0 \n",
    "    while i < l_len and j < r_len:\n",
    "        if l[i] < r[j]:\n",
    "            result.append(l[i])\n",
    "            i += 1\n",
    "        else:\n",
    "            result.append(r[j])\n",
    "            j += 1\n",
    "    \n",
    "    if i == l_len:\n",
    "        result.extend(r[j:])\n",
    "    else:\n",
    "        result.extend(l[i:])\n",
    "    return result"
   ]
  },
  {
   "cell_type": "code",
   "execution_count": 3,
   "metadata": {},
   "outputs": [
    {
     "name": "stdout",
     "output_type": "stream",
     "text": [
      "array after sort 1 [1, 2, 5, 11, 13, 22, 32]\n",
      "array after sort 2 [1, 2, 5, 11, 13, 22, 32]\n"
     ]
    }
   ],
   "source": [
    "a = [2, 13, 32]\n",
    "b = [1, 5, 11, 22]\n",
    "\n",
    "print(\"array after sort 1\", sort_ordered_list2(a, b))\n",
    "print(\"array after sort 2\", sort_ordered_list2(a, b))"
   ]
  },
  {
   "cell_type": "code",
   "execution_count": 4,
   "metadata": {},
   "outputs": [],
   "source": [
    "def merge_sort(arr):\n",
    "    if len(arr) > 1:\n",
    "        mid = len(arr) // 2\n",
    "        left = arr[:mid]\n",
    "        right = arr[mid:]\n",
    "        \n",
    "        merge_sort(left)\n",
    "        merge_sort(right)\n",
    "        \n",
    "        l_len, r_len = len(left), len(right)\n",
    "\n",
    "        i = j = k = 0 \n",
    "        while i < l_len and j < r_len:\n",
    "            if left[i] < right[j]:\n",
    "                arr[k] = left[i]\n",
    "                i += 1\n",
    "            else:\n",
    "                arr[k] = right[j]\n",
    "                j += 1\n",
    "            k += 1\n",
    "\n",
    "        if i == l_len:\n",
    "            arr[k:] = right[j:]\n",
    "        else:\n",
    "            arr[k:] = left[i:]\n",
    "    else:\n",
    "        return"
   ]
  },
  {
   "cell_type": "code",
   "execution_count": 5,
   "metadata": {},
   "outputs": [
    {
     "name": "stdout",
     "output_type": "stream",
     "text": [
      "[1, 1, 2, 7, 12, 15, 18, 34]\n"
     ]
    }
   ],
   "source": [
    "arr = [7, 15, 2, 1, 18, 1, 34, 12]  \n",
    "merge_sort(arr) \n",
    "print(arr) "
   ]
  },
  {
   "cell_type": "markdown",
   "metadata": {},
   "source": [
    "## Bubble Sort\n",
    "---\n",
    "\n",
    "Bubble Sort is the simplest sorting algorithm that works by repeatedly swapping the adjacent elements if they are in wrong order `O(n^2)`.\n",
    "```\n",
    "Example:\n",
    "First Pass:\n",
    "( 5 1 4 2 8 ) –> ( 1 5 4 2 8 ), Here, algorithm compares the first two elements, and swaps since 5 > 1.\n",
    "( 1 5 4 2 8 ) –>  ( 1 4 5 2 8 ), Swap since 5 > 4\n",
    "( 1 4 5 2 8 ) –>  ( 1 4 2 5 8 ), Swap since 5 > 2\n",
    "( 1 4 2 5 8 ) –> ( 1 4 2 5 8 ), Now, since these elements are already in order (8 > 5), algorithm does not swap them.\n",
    "\n",
    "Second Pass:\n",
    "( 1 4 2 5 8 ) –> ( 1 4 2 5 8 )\n",
    "( 1 4 2 5 8 ) –> ( 1 2 4 5 8 ), Swap since 4 > 2\n",
    "( 1 2 4 5 8 ) –> ( 1 2 4 5 8 )\n",
    "( 1 2 4 5 8 ) –>  ( 1 2 4 5 8 )\n",
    "Now, the array is already sorted, but our algorithm does not know if it is completed. The algorithm needs one whole pass without any swap to know it is sorted.\n",
    "\n",
    "Third Pass:\n",
    "( 1 2 4 5 8 ) –> ( 1 2 4 5 8 )\n",
    "( 1 2 4 5 8 ) –> ( 1 2 4 5 8 )\n",
    "( 1 2 4 5 8 ) –> ( 1 2 4 5 8 )\n",
    "( 1 2 4 5 8 ) –> ( 1 2 4 5 8 )\n",
    "```"
   ]
  },
  {
   "cell_type": "code",
   "execution_count": 11,
   "metadata": {},
   "outputs": [],
   "source": [
    "def swap(l):\n",
    "    not_ordered = False\n",
    "    for i in range(0, len(l)-1):\n",
    "        if l[i] > l[i+1]:\n",
    "            not_ordered = True\n",
    "            l[i], l[i+1] = l[i+1], l[i]\n",
    "    return l, not_ordered"
   ]
  },
  {
   "cell_type": "code",
   "execution_count": 12,
   "metadata": {},
   "outputs": [
    {
     "data": {
      "text/plain": [
       "([1, 4, 2, 5, 3, 8], True)"
      ]
     },
     "execution_count": 12,
     "metadata": {},
     "output_type": "execute_result"
    }
   ],
   "source": [
    "l = [5, 1, 4, 2, 8, 3]\n",
    "swap(l)"
   ]
  },
  {
   "cell_type": "code",
   "execution_count": 13,
   "metadata": {},
   "outputs": [],
   "source": [
    "def bubble_sort(l):\n",
    "    while 1:\n",
    "        l, not_ordered = swap(l)\n",
    "        if not not_ordered:\n",
    "            break\n",
    "        \n",
    "    return l"
   ]
  },
  {
   "cell_type": "code",
   "execution_count": 14,
   "metadata": {},
   "outputs": [
    {
     "data": {
      "text/plain": [
       "[1, 2, 2, 3, 4, 5, 6, 8, 11, 23]"
      ]
     },
     "execution_count": 14,
     "metadata": {},
     "output_type": "execute_result"
    }
   ],
   "source": [
    "l = [5, 1, 4, 2, 8, 11, 2, 3, 23, 6]\n",
    "bubble_sort(l)"
   ]
  },
  {
   "cell_type": "markdown",
   "metadata": {},
   "source": [
    "## Quick Sort\n",
    "---\n",
    "QuickSort is a Divide and Conquer algorithm. It picks an element as pivot and partitions the given array around the picked pivot. There are many different versions of quickSort that pick pivot in different ways.\n",
    "\n",
    "```\n",
    "quickSort(arr[], low, high)\n",
    "{\n",
    "    if (low < high)\n",
    "    {\n",
    "        /* pi is partitioning index, arr[pi] is now\n",
    "           at right place */\n",
    "        pi = partition(arr, low, high);\n",
    "\n",
    "        quickSort(arr, low, pi - 1);  // Before pi\n",
    "        quickSort(arr, pi + 1, high); // After pi\n",
    "    }\n",
    "}\n",
    "```"
   ]
  },
  {
   "cell_type": "code",
   "execution_count": 10,
   "metadata": {
    "collapsed": true
   },
   "outputs": [],
   "source": [
    "def partition(l, low, high):\n",
    "    pivot = l[high]\n",
    "    i = low  # the current index of smaller value\n",
    "    for j in range(low, high):\n",
    "        if l[j] < pivot:\n",
    "            l[i], l[j] = l[j], l[i]\n",
    "            i += 1\n",
    "    l[high], l[i] = l[i], l[high]\n",
    "    return i"
   ]
  },
  {
   "cell_type": "code",
   "execution_count": 11,
   "metadata": {},
   "outputs": [
    {
     "data": {
      "text/plain": [
       "[1, 2]"
      ]
     },
     "execution_count": 11,
     "metadata": {},
     "output_type": "execute_result"
    }
   ],
   "source": [
    "s = [2, 1]\n",
    "partition(s, 0, 1)\n",
    "s"
   ]
  },
  {
   "cell_type": "code",
   "execution_count": 12,
   "metadata": {
    "collapsed": true
   },
   "outputs": [],
   "source": [
    "def quick_sort(l, low, high):\n",
    "    if low < high:\n",
    "        i = partition(l, low, high)\n",
    "        quick_sort(l, low, i-1)\n",
    "        quick_sort(l, i+1, high)  "
   ]
  },
  {
   "cell_type": "code",
   "execution_count": 13,
   "metadata": {},
   "outputs": [],
   "source": [
    "l = [5, 2, 8, 1, 11, 4, 7]\n",
    "quick_sort(l, 0, len(l) - 1)"
   ]
  },
  {
   "cell_type": "code",
   "execution_count": null,
   "metadata": {
    "collapsed": true
   },
   "outputs": [],
   "source": []
  }
 ],
 "metadata": {
  "kernelspec": {
   "display_name": "Python 3",
   "language": "python",
   "name": "python3"
  },
  "language_info": {
   "codemirror_mode": {
    "name": "ipython",
    "version": 3
   },
   "file_extension": ".py",
   "mimetype": "text/x-python",
   "name": "python",
   "nbconvert_exporter": "python",
   "pygments_lexer": "ipython3",
   "version": "3.6.5"
  }
 },
 "nbformat": 4,
 "nbformat_minor": 2
}
