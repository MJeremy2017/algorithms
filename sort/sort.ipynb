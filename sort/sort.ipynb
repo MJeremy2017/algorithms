{
 "cells": [
  {
   "cell_type": "markdown",
   "metadata": {},
   "source": [
    "## Merge Sort\n",
    "---\n",
    "\n",
    "```\n",
    "MergeSort(arr[], l,  r)\n",
    "If r > l\n",
    "     1. Find the middle point to divide the array into two halves:  \n",
    "             middle m = (l+r)/2\n",
    "     2. Call mergeSort for first half:   \n",
    "             Call mergeSort(arr, l, m)\n",
    "     3. Call mergeSort for second half:\n",
    "             Call mergeSort(arr, m+1, r)\n",
    "     4. Merge the two halves sorted in step 2 and 3:\n",
    "             Call merge(arr, l, m, r)\n",
    "```"
   ]
  },
  {
   "cell_type": "code",
   "execution_count": 48,
   "metadata": {},
   "outputs": [],
   "source": [
    "# sort two ordered list\n",
    "def sort_ordered_list(l, r):\n",
    "    l_len, r_len = len(l), len(r)\n",
    "    result = [0 for _ in range(l_len + r_len)]\n",
    "    \n",
    "    i = j = k = 0  # k is the pointer for result list\n",
    "    while i < l_len and j < r_len:\n",
    "        if l[i] < r[j]:\n",
    "            result[k] = l[i]\n",
    "            i += 1\n",
    "        else:\n",
    "            result[k] = r[j]\n",
    "            j += 1\n",
    "        k += 1\n",
    "    \n",
    "    if i == l_len:\n",
    "        result[k:] = r[j:]\n",
    "    else:\n",
    "        result[k:] = l[i:]\n",
    "    return result"
   ]
  },
  {
   "cell_type": "code",
   "execution_count": 59,
   "metadata": {},
   "outputs": [],
   "source": [
    "# sort two ordered list\n",
    "def sort_ordered_list2(l, r):\n",
    "    l_len, r_len = len(l), len(r)\n",
    "    result = []\n",
    "    \n",
    "    i = j = 0 \n",
    "    while i < l_len and j < r_len:\n",
    "        if l[i] < r[j]:\n",
    "            result.append(l[i])\n",
    "            i += 1\n",
    "        else:\n",
    "            result.append(r[j])\n",
    "            j += 1\n",
    "    \n",
    "    if i == l_len:\n",
    "        result.extend(r[j:])\n",
    "    else:\n",
    "        result.extend(l[i:])\n",
    "    return result"
   ]
  },
  {
   "cell_type": "code",
   "execution_count": 61,
   "metadata": {},
   "outputs": [
    {
     "name": "stdout",
     "output_type": "stream",
     "text": [
      "array after sort 1 [1, 2, 5, 11, 13, 22, 32]\n",
      "array after sort 2 [1, 2, 5, 11, 13, 22, 32]\n"
     ]
    }
   ],
   "source": [
    "a = [2, 13, 32]\n",
    "b = [1, 5, 11, 22]\n",
    "\n",
    "print(\"array after sort 1\", sort_ordered_list2(a, b))\n",
    "print(\"array after sort 2\", sort_ordered_list2(a, b))"
   ]
  },
  {
   "cell_type": "code",
   "execution_count": 64,
   "metadata": {},
   "outputs": [],
   "source": [
    "def merge_sort(arr):\n",
    "    if len(arr) > 1:\n",
    "        mid = len(arr) // 2\n",
    "        left = arr[:mid]\n",
    "        right = arr[mid:]\n",
    "        \n",
    "        merge_sort(left)\n",
    "        merge_sort(right)\n",
    "        \n",
    "        l_len, r_len = len(left), len(right)\n",
    "\n",
    "        i = j = k = 0 \n",
    "        while i < l_len and j < r_len:\n",
    "            if left[i] < right[j]:\n",
    "                arr[k] = left[i]\n",
    "                i += 1\n",
    "            else:\n",
    "                arr[k] = right[j]\n",
    "                j += 1\n",
    "            k += 1\n",
    "\n",
    "        if i == l_len:\n",
    "            arr[k:] = right[j:]\n",
    "        else:\n",
    "            arr[k:] = left[i:]"
   ]
  },
  {
   "cell_type": "code",
   "execution_count": 67,
   "metadata": {},
   "outputs": [
    {
     "name": "stdout",
     "output_type": "stream",
     "text": [
      "[1, 1, 2, 7, 12, 15, 18, 34]\n"
     ]
    }
   ],
   "source": [
    "arr = [7, 15, 2, 1, 18, 1, 34, 12]  \n",
    "merge_sort(arr) \n",
    "print(arr) "
   ]
  },
  {
   "cell_type": "code",
   "execution_count": null,
   "metadata": {},
   "outputs": [],
   "source": []
  }
 ],
 "metadata": {
  "kernelspec": {
   "display_name": "Python 3",
   "language": "python",
   "name": "python3"
  },
  "language_info": {
   "codemirror_mode": {
    "name": "ipython",
    "version": 3
   },
   "file_extension": ".py",
   "mimetype": "text/x-python",
   "name": "python",
   "nbconvert_exporter": "python",
   "pygments_lexer": "ipython3",
   "version": "3.6.5"
  }
 },
 "nbformat": 4,
 "nbformat_minor": 2
}
