{
 "cells": [
  {
   "cell_type": "markdown",
   "metadata": {},
   "source": [
    "BFS\n",
    "---\n",
    "```\n",
    " procedure BFS(G, start_v) is\n",
    "      let Q be a queue\n",
    "      label start_v as discovered\n",
    "      Q.enqueue(start_v)\n",
    "      while Q is not empty do\n",
    "          v := Q.dequeue()\n",
    "          if v is the goal then\n",
    "              return v\n",
    "          for all edges from v to w in G.adjacentEdges(v) do\n",
    "             if w is not labeled as discovered then\n",
    "                 label w as discovered\n",
    "                 w.parent := v\n",
    "                 Q.enqueue(w)\n",
    "```"
   ]
  },
  {
   "cell_type": "code",
   "execution_count": 1,
   "metadata": {},
   "outputs": [],
   "source": [
    "class Graph:\n",
    "    def __init__(self):\n",
    "        self.graph = dict()\n",
    "        self.path_all = []\n",
    "        self.n = 0\n",
    "        \n",
    "    def add_edge(self, u, v):\n",
    "        if u not in self.graph.keys():\n",
    "            self.graph[u] = [v]\n",
    "        else:\n",
    "            self.graph[u].append(v)\n",
    "            \n",
    "    def bfs(self, start, end):\n",
    "        queue = [ [start, [start]] ]  # current node, current path\n",
    "        while queue:\n",
    "            curr_node, curr_path = queue.pop(0)\n",
    "            if curr_node == end:\n",
    "                print(\"find path\", curr_path)\n",
    "            \n",
    "            if curr_node not in self.graph.keys():\n",
    "                continue\n",
    "            \n",
    "            children = self.graph[curr_node]\n",
    "            for child in children:\n",
    "                # must copy so that each child path is independent\n",
    "                path = curr_path.copy()\n",
    "                if child not in curr_path:\n",
    "                    path.append(child)\n",
    "                    queue.append([child, path])"
   ]
  },
  {
   "cell_type": "code",
   "execution_count": 2,
   "metadata": {},
   "outputs": [],
   "source": [
    "g = Graph()\n",
    "g.add_edge(0, 1) \n",
    "g.add_edge(0, 2) \n",
    "g.add_edge(1, 3) \n",
    "g.add_edge(1, 4) \n",
    "g.add_edge(4, 1) \n",
    "g.add_edge(2, 5)\n",
    "g.add_edge(5, 6)\n",
    "g.add_edge(5, 4)\n",
    "g.add_edge(4, 6) "
   ]
  },
  {
   "cell_type": "code",
   "execution_count": 3,
   "metadata": {},
   "outputs": [
    {
     "name": "stdout",
     "output_type": "stream",
     "text": [
      "find path [0, 1, 4, 6]\n",
      "find path [0, 2, 5, 6]\n",
      "find path [0, 2, 5, 4, 6]\n"
     ]
    }
   ],
   "source": [
    "g.bfs(0, 6)"
   ]
  },
  {
   "cell_type": "markdown",
   "metadata": {},
   "source": [
    "Example\n",
    "---\n",
    "Given a binary tree, find its minimum depth.\n",
    "\n",
    "The minimum depth is the number of nodes along the shortest path from the root node down to the nearest leaf node.\n",
    "\n",
    "__Note:__ A leaf is a node with no children.\n",
    "```\n",
    "    3\n",
    "   / \\\n",
    "  9  20\n",
    "    /  \\\n",
    "   15   7\n",
    "```\n",
    "return its minimum depth = 2."
   ]
  },
  {
   "cell_type": "code",
   "execution_count": 4,
   "metadata": {
    "collapsed": true
   },
   "outputs": [],
   "source": [
    "class TreeNode(object):\n",
    "    def __init__(self, x):\n",
    "        self.val = x\n",
    "        self.left = None\n",
    "        self.right = None\n",
    "\n",
    "class Solution(object):\n",
    "    def __init__(self):\n",
    "        self.queue = []\n",
    "        \n",
    "    def isLeaf(self, node):\n",
    "        if not node.left and not node.right:\n",
    "            return True\n",
    "        return False\n",
    "        \n",
    "    def minDepth(self, root):\n",
    "        \"\"\"\n",
    "        :type root: TreeNode\n",
    "        :rtype: int\n",
    "        \"\"\"\n",
    "        \n",
    "        self.queue.append({'node': root, 'depth': 1})\n",
    "        \n",
    "        while self.queue:\n",
    "            item = self.queue.pop(0)\n",
    "            curr_node = item['node']\n",
    "            curr_depth = item['depth']\n",
    "            print(curr_node.val)\n",
    "            \n",
    "            if self.isLeaf(curr_node):\n",
    "                return curr_depth\n",
    "            else:\n",
    "                if curr_node.left:\n",
    "                    self.queue.append({'node': curr_node.left, 'depth': curr_depth + 1})\n",
    "                if curr_node.right:\n",
    "                    self.queue.append({'node': curr_node.right, 'depth': curr_depth + 1})"
   ]
  },
  {
   "cell_type": "code",
   "execution_count": 5,
   "metadata": {},
   "outputs": [
    {
     "name": "stdout",
     "output_type": "stream",
     "text": [
      "3\n",
      "9\n"
     ]
    },
    {
     "data": {
      "text/plain": [
       "2"
      ]
     },
     "execution_count": 5,
     "metadata": {},
     "output_type": "execute_result"
    }
   ],
   "source": [
    "tree = TreeNode(3)\n",
    "tree.left = TreeNode(9)\n",
    "tree.right = TreeNode(20)\n",
    "\n",
    "tree.right.left = TreeNode(15)\n",
    "tree.right.right = TreeNode(7)\n",
    "\n",
    "s = Solution()\n",
    "s.minDepth(tree)"
   ]
  },
  {
   "cell_type": "code",
   "execution_count": null,
   "metadata": {
    "collapsed": true
   },
   "outputs": [],
   "source": []
  }
 ],
 "metadata": {
  "kernelspec": {
   "display_name": "Python 3",
   "language": "python",
   "name": "python3"
  },
  "language_info": {
   "codemirror_mode": {
    "name": "ipython",
    "version": 3
   },
   "file_extension": ".py",
   "mimetype": "text/x-python",
   "name": "python",
   "nbconvert_exporter": "python",
   "pygments_lexer": "ipython3",
   "version": "3.6.5"
  }
 },
 "nbformat": 4,
 "nbformat_minor": 2
}
