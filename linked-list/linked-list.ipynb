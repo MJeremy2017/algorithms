{
 "cells": [
  {
   "cell_type": "code",
   "execution_count": 1,
   "metadata": {},
   "outputs": [],
   "source": [
    "class Node:\n",
    "    def __init__(self, val):\n",
    "        self.val = val\n",
    "        self.next = None\n",
    "        \n",
    "class ListNode:\n",
    "    def __init__(self):\n",
    "        self.head = None\n",
    "    \n",
    "    def add(self, value):\n",
    "        node = Node(value)\n",
    "        if self.head is None:\n",
    "            self.head = node\n",
    "            return\n",
    "        \n",
    "        # start from head\n",
    "        last = self.head\n",
    "        while last.next:\n",
    "            last = last.next\n",
    "        last.next = node\n",
    "        \n",
    "    def reverse(self):\n",
    "        if self.head is None:\n",
    "            return\n",
    "        \n",
    "        prev_node = None\n",
    "        curr_node = self.head\n",
    "        while curr_node:\n",
    "            next_node = curr_node.next\n",
    "            curr_node.next = prev_node\n",
    "            prev_node = curr_node\n",
    "            curr_node = next_node\n",
    "        self.head = prev_node\n",
    "        \n",
    "    def insert(self, node, val):\n",
    "        insert_node = Node(val)\n",
    "        next_node = node.next\n",
    "        node.next = insert_node\n",
    "        insert_node.next = next_node\n",
    "        \n",
    "    def prepend(self, val):\n",
    "        if self.head is None:\n",
    "            return\n",
    "        \n",
    "        node = Node(val)\n",
    "        node.next = self.head\n",
    "        self.head = node\n",
    "        \n",
    "    def print_list(self):\n",
    "        if self.head is None:\n",
    "            return\n",
    "        \n",
    "        curr_node = self.head\n",
    "        result = [curr_node.val]\n",
    "        while curr_node.next:\n",
    "            curr_node = curr_node.next\n",
    "            result.append(curr_node.val)\n",
    "        print(result)"
   ]
  },
  {
   "cell_type": "code",
   "execution_count": 2,
   "metadata": {},
   "outputs": [
    {
     "name": "stdout",
     "output_type": "stream",
     "text": [
      "[3, 2, 4]\n",
      "[1, 3, 2, 4]\n",
      "[4, 2, 3, 1]\n"
     ]
    }
   ],
   "source": [
    "ln = ListNode()\n",
    "ln.add(3)\n",
    "ln.add(2)\n",
    "ln.add(4)\n",
    "\n",
    "ln.print_list()\n",
    "\n",
    "ln.prepend(1)\n",
    "ln.print_list()\n",
    "\n",
    "ln.reverse()\n",
    "ln.print_list()"
   ]
  },
  {
   "cell_type": "code",
   "execution_count": null,
   "metadata": {},
   "outputs": [],
   "source": []
  }
 ],
 "metadata": {
  "kernelspec": {
   "display_name": "Python 3",
   "language": "python",
   "name": "python3"
  },
  "language_info": {
   "codemirror_mode": {
    "name": "ipython",
    "version": 3
   },
   "file_extension": ".py",
   "mimetype": "text/x-python",
   "name": "python",
   "nbconvert_exporter": "python",
   "pygments_lexer": "ipython3",
   "version": "3.6.5"
  }
 },
 "nbformat": 4,
 "nbformat_minor": 2
}
